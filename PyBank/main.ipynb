{
 "cells": [
  {
   "cell_type": "code",
   "execution_count": 54,
   "id": "96f36f03-43b7-4dcd-bfc6-3a087a29cef8",
   "metadata": {},
   "outputs": [],
   "source": [
    "#import the pathlib and csv library\n",
    "from pathlib import Path\n",
    "import csv"
   ]
  },
  {
   "cell_type": "code",
   "execution_count": 55,
   "id": "5fe30d39-8f4e-4935-9480-8c5719b2dfd9",
   "metadata": {},
   "outputs": [],
   "source": [
    "#set the file path\n",
    "csvpath = Path('./Resources/budget_data.csv')"
   ]
  },
  {
   "cell_type": "code",
   "execution_count": 56,
   "id": "4cf694ff-ac02-43ae-98c3-ca6e87ca6ad2",
   "metadata": {},
   "outputs": [],
   "source": [
    "#initialize variables to hold values\n",
    "months_list = []\n",
    "net_total_list = []\n",
    "average_changes = 0\n",
    "greatest_increase = [\"\",0]\n",
    "greatest_decrease = [\"\",0]"
   ]
  },
  {
   "cell_type": "code",
   "execution_count": 57,
   "id": "adbb5c18-15f1-496a-9d27-426257d2c108",
   "metadata": {},
   "outputs": [
    {
     "name": "stdout",
     "output_type": "stream",
     "text": [
      "<class '_io.TextIOWrapper'>\n",
      "<class '_csv.reader'>\n",
      "number of months is 85\n",
      "total PnL is 38382578\n"
     ]
    }
   ],
   "source": [
    "# open the input path as a file object\n",
    "with open(csvpath, 'r') as csvfile:\n",
    "    print(type(csvfile))\n",
    "    csvreader = csv.reader(csvfile, delimiter=',')\n",
    "    print(type(csvreader))\n",
    "    \n",
    "    #read each row of data after the header\n",
    "    month = 0\n",
    "    net_total = 0\n",
    "\n",
    "    for row in csvreader:\n",
    "        if row[0] == \"Date\":\n",
    "            test = 1\n",
    "        else:\n",
    "            month = month + 1\n",
    "            net_total += int(row[1])\n",
    "        \n",
    "    print(f\"number of months is {month-1}\")\n",
    "    print(f\"total PnL is {net_total}\")"
   ]
  },
  {
   "cell_type": "code",
   "execution_count": null,
   "id": "18ac2669-f3e4-4df7-a088-959fe84ec6c4",
   "metadata": {},
   "outputs": [],
   "source": []
  }
 ],
 "metadata": {
  "kernelspec": {
   "display_name": "Python 3",
   "language": "python",
   "name": "python3"
  },
  "language_info": {
   "codemirror_mode": {
    "name": "ipython",
    "version": 3
   },
   "file_extension": ".py",
   "mimetype": "text/x-python",
   "name": "python",
   "nbconvert_exporter": "python",
   "pygments_lexer": "ipython3",
   "version": "3.8.8"
  }
 },
 "nbformat": 4,
 "nbformat_minor": 5
}
