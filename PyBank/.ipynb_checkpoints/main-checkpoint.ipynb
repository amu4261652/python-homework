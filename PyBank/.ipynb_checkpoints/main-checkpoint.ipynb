{
 "cells": [
  {
   "cell_type": "code",
   "execution_count": 1,
   "id": "96f36f03-43b7-4dcd-bfc6-3a087a29cef8",
   "metadata": {},
   "outputs": [],
   "source": [
    "#import the pathlib and csv library\n",
    "from pathlib import Path\n",
    "import csv"
   ]
  },
  {
   "cell_type": "code",
   "execution_count": 2,
   "id": "5fe30d39-8f4e-4935-9480-8c5719b2dfd9",
   "metadata": {},
   "outputs": [],
   "source": [
    "#set the file path\n",
    "csvpath = Path('./Resources/budget_data.csv')"
   ]
  },
  {
   "cell_type": "code",
   "execution_count": 34,
   "id": "adbb5c18-15f1-496a-9d27-426257d2c108",
   "metadata": {},
   "outputs": [],
   "source": [
    "\n",
    "#initialize variables to hold values\n",
    "months_list = []\n",
    "month = 0\n",
    "net_total = 0\n",
    "net_total_list = []\n",
    "average_changes = 0\n",
    "greatest_increase = [\"\",0]\n",
    "greatest_decrease = [\"\",0]\n",
    "\n",
    "\n",
    "# open the input path as a file object\n",
    "with open(csvpath, 'r') as csvfile:\n",
    "    \n",
    "    csvreader = csv.reader(csvfile, delimiter=',')\n",
    "    header = next(csvreader)#skipping the header\n",
    "    \n",
    "    \n",
    "    #read each row of data after the header\n",
    "    first_row = next(csvreader) #moves one step\n",
    "    month = month + 1 #starting from month 1\n",
    "    net_total = net_total + int(first_row[1]) #started from row 1\n",
    "    previous_net = int(first_row[1])\n",
    "    \n",
    "    #net_total_list.append(previous_net)\n",
    "    #print(previous_net, month)\n",
    "    \n",
    "    for row in csvreader:\n",
    "        #print(row[0],row[1])\n",
    "        current = int(row[1])\n",
    "        month = month + 1\n",
    "        \n",
    "        # (b) net total \n",
    "        net_total += current\n",
    "        \n",
    "        # (c) average change\n",
    "        change = current - previous_net\n",
    "        previous_net = current\n",
    "        #print(change, previous_net)\n",
    "        net_total_list.append(change)\n",
    "        \n",
    "        # (d) profit vs loss change\n",
    "        if change >= 0:\n",
    "            if greatest_increase[1] < change:\n",
    "                greatest_increase[1] = change\n",
    "                greatest_increase[0] = row[0]\n",
    "        else:\n",
    "            if greatest_decrease[1] > change:\n",
    "                greatest_decrease[1] = change\n",
    "                greatest_decrease[0] = row[0]\n",
    "        \n",
    "    change_avg = sum(net_total_list)/(month-1)\n",
    "    \n",
    "    \n",
    "    write_final = \"\"\n",
    "    write_final += f\"Financial Analysis\" + \"\\n\"\n",
    "    write_final += \"----------------------------\\n\"\n",
    "    write_final += f\"Total Months: {month}\\n\"\n",
    "    write_final += f\"Total: ${net_total}\\n\"\n",
    "    write_final += f\"Average change ${round(change_avg, 2)}\\n\"\n",
    "    write_final += f\"Greatest Increase in Profits: {greatest_increase[0]} (${greatest_increase[1]})\\n\"\n",
    "    write_final += f\"Greatest Decrease in Losses: {greatest_decrease[0]} (${greatest_decrease[1]})\\n\" "
   ]
  },
  {
   "cell_type": "code",
   "execution_count": 35,
   "id": "18ac2669-f3e4-4df7-a088-959fe84ec6c4",
   "metadata": {},
   "outputs": [
    {
     "name": "stdout",
     "output_type": "stream",
     "text": [
      "Financial Analysis\n",
      "----------------------------\n",
      "Total Months: 86\n",
      "Total: $38382578\n",
      "Average change $-2315.12\n",
      "Greatest Increase in Profits: Feb-2012 ($1926159)\n",
      "Greatest Decrease in Losses: Sep-2013 ($-2196167)\n",
      "\n"
     ]
    }
   ],
   "source": [
    "print(write_final)"
   ]
  },
  {
   "cell_type": "code",
   "execution_count": 36,
   "id": "edaa0b70-b835-4799-aa9b-f8e16384d53e",
   "metadata": {},
   "outputs": [],
   "source": [
    "with open(\"final_script.txt\", \"w\") as f:\n",
    "    f.write(write_final)"
   ]
  },
  {
   "cell_type": "code",
   "execution_count": null,
   "id": "6c5bb911-b26a-41a2-8a71-fd693fbaa757",
   "metadata": {},
   "outputs": [],
   "source": []
  }
 ],
 "metadata": {
  "kernelspec": {
   "display_name": "Python 3",
   "language": "python",
   "name": "python3"
  },
  "language_info": {
   "codemirror_mode": {
    "name": "ipython",
    "version": 3
   },
   "file_extension": ".py",
   "mimetype": "text/x-python",
   "name": "python",
   "nbconvert_exporter": "python",
   "pygments_lexer": "ipython3",
   "version": "3.8.8"
  }
 },
 "nbformat": 4,
 "nbformat_minor": 5
}
